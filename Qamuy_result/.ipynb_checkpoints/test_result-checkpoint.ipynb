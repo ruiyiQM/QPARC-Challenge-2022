{
 "cells": [
  {
   "cell_type": "code",
   "execution_count": null,
   "id": "e2e2cd37",
   "metadata": {},
   "outputs": [],
   "source": [
    "import qamuy.chemistry as qy\n",
    "from qamuy.client import Client\n",
    "client = Client(email_address=\"ryzhou@live.unc.edu\", password=\"rEKv3012\")"
   ]
  },
  {
   "cell_type": "code",
   "execution_count": null,
   "id": "94575fa8",
   "metadata": {},
   "outputs": [],
   "source": [
    "setting = qy.QamuyChemistryInput()\n",
    "\n",
    "atoms = [\"H\", \"O\", \"H\"]\n",
    "coords = [\n",
    "    [0.968877, 0.012358, 0.000000],\n",
    "    [-0.019830, -0.025588, 0.000000],\n",
    "    [-0.229801, 0.941311, 0.000000]\n",
    "]\n",
    "molecule = setting.target_molecule\n",
    "molecule.geometry = qy.molecule_geometry(atoms, coords)\n",
    "molecule.basis = \"6-31g\"\n",
    "molecule.multiplicity = 1\n",
    "molecule.num_excited_states = 0\n",
    "molecule.cas = qy.cas(2,2)"
   ]
  },
  {
   "cell_type": "code",
   "execution_count": null,
   "id": "8235a20f",
   "metadata": {},
   "outputs": [],
   "source": [
    "setting.output_chemical_properties.append(\n",
    "    qy.output_chemical_property(\n",
    "        target=\"dipole_moment\", states=[0]\n",
    "    )\n",
    ")\n",
    "\n",
    "setting.post_hf_methods.append(\n",
    "    qy.PostHFMethod(type=\"CASCI\")\n",
    ")\n",
    "setting.mapping.type = \"JORDAN_WIGNER\"\n",
    "setting.solver.type = \"VQE\"\n",
    "\n",
    "setting.cost_function.type = \"SIMPLE\"\n",
    "setting.cost_function.s2_number_weight = 4.0\n",
    "setting.cost_function.sz_number_weight = 4.0"
   ]
  },
  {
   "cell_type": "code",
   "execution_count": null,
   "id": "10b146d4",
   "metadata": {},
   "outputs": [],
   "source": [
    "setting.ansatz.type = \"SYMMETRY_PRESERVING\"\n",
    "setting.ansatz.depth = 4\n",
    "setting.ansatz.use_random_initial_guess = True\n",
    "setting.optimizer.type = \"BFGS\"\n",
    "#setting.quantum_device.type = \"EXACT_SIMULATOR\"\n",
    "setting.quantum_device.type = \"SAMPLING_SIMULATOR\""
   ]
  },
  {
   "cell_type": "code",
   "execution_count": null,
   "id": "2f90aafb",
   "metadata": {},
   "outputs": [],
   "source": [
    "client = Client()\n",
    "job = client.submit(setting)"
   ]
  },
  {
   "cell_type": "code",
   "execution_count": null,
   "id": "2882462b",
   "metadata": {},
   "outputs": [],
   "source": [
    "results = client.wait_and_get_job_results([job])"
   ]
  },
  {
   "cell_type": "code",
   "execution_count": null,
   "id": "5776948b",
   "metadata": {},
   "outputs": [],
   "source": [
    "results"
   ]
  },
  {
   "cell_type": "code",
   "execution_count": null,
   "id": "b377b6bd",
   "metadata": {},
   "outputs": [],
   "source": [
    "output = results[0].output"
   ]
  },
  {
   "cell_type": "code",
   "execution_count": null,
   "id": "a774c42f",
   "metadata": {},
   "outputs": [],
   "source": [
    "output"
   ]
  },
  {
   "cell_type": "code",
   "execution_count": null,
   "id": "e19d37fb",
   "metadata": {},
   "outputs": [],
   "source": [
    "print (output)"
   ]
  },
  {
   "cell_type": "code",
   "execution_count": null,
   "id": "0052a056",
   "metadata": {},
   "outputs": [],
   "source": []
  }
 ],
 "metadata": {
  "kernelspec": {
   "display_name": "Python 3 (ipykernel)",
   "language": "python",
   "name": "python3"
  },
  "language_info": {
   "codemirror_mode": {
    "name": "ipython",
    "version": 3
   },
   "file_extension": ".py",
   "mimetype": "text/x-python",
   "name": "python",
   "nbconvert_exporter": "python",
   "pygments_lexer": "ipython3",
   "version": "3.9.5"
  }
 },
 "nbformat": 4,
 "nbformat_minor": 5
}
