{
 "cells": [
  {
   "cell_type": "code",
   "execution_count": 1,
   "id": "1c80cd36",
   "metadata": {},
   "outputs": [],
   "source": [
    "import qamuy.chemistry as qy\n",
    "from qamuy.client import Client\n",
    "\n",
    "from copy import deepcopy\n",
    "import numpy as np\n",
    "import matplotlib.pyplot as plt\n",
    "\n",
    "# You can fill in your e-mail address and password.\n",
    "client = Client(email_address=\"ryzhou@live.unc.edu\", password=\"rEKv3012\")"
   ]
  },
  {
   "cell_type": "code",
   "execution_count": 2,
   "id": "2241ed47",
   "metadata": {},
   "outputs": [],
   "source": [
    "input = qy.QamuyChemistryInput()\n",
    "ps = input.target_periodic_system"
   ]
  },
  {
   "cell_type": "code",
   "execution_count": 3,
   "id": "9e771f01",
   "metadata": {},
   "outputs": [],
   "source": [
    "# see also https://sunqm.github.io/pyscf/modules/pbc/gto.html\n",
    "#BOHR = 0.529 # unit: angstrom\n",
    "#unitcell_x = 4. * BOHR\n",
    "#unitcell_yz = 1.\n",
    "atoms = [\"C\",\"C\",\"H\", \"H\"]\n",
    "coords = [[-0.58442 ,  -0.32662 , 0.0 ],[0.58442 ,  0.32662 ,  0.0  ],[ 0.58442  , 1.40362   ,0.0],[ -0.58442   ,-1.40362 , 0.0    \n",
    "]]\n",
    "lattice_vec = [[2.469000000, 0., 0.], [0.,10, 0.], [0., 0., 10]]\n",
    "kpt_grid_shape = [1, 1, 1] # number of k-points in each direction.\n",
    "dimension = 1\n",
    "\n",
    "ps.geometry = qy.periodic_system_geometry(atoms, coords, lattice_vec, kpt_grid_shape)\n",
    "ps.geometry.dimension = dimension"
   ]
  },
  {
   "cell_type": "code",
   "execution_count": 4,
   "id": "74062cf9",
   "metadata": {},
   "outputs": [],
   "source": [
    "ps.basis = \"sto-3g\"\n",
    "ps.num_excited_states = 0\n",
    "ps.multiplicity = 1  # required (from ver. 0.18.1)\n",
    "\n",
    "# CAS\n",
    "ps.cas = qy.cas(2, 2)"
   ]
  },
  {
   "cell_type": "code",
   "execution_count": 5,
   "id": "ff347e06",
   "metadata": {},
   "outputs": [],
   "source": [
    "input.solver.type = \"VQE\"\n",
    "\n",
    "input.ansatz.type = \"UCCD\"\n",
    "input.ansatz.is_state_real = True\n",
    "input.ansatz.reference_state = \"RHF\"\n",
    "input.ansatz.trotter_steps = 4\n",
    "input.ansatz.initial_parameter = [0.0]\n",
    "input.ansatz.init_param_random_seed = 1\n",
    "\n",
    "input.optimizer.type = \"BFGS\"\n",
    "input.optimizer.gtol = 1e-6\n",
    "\n",
    "input.cost_function.type = \"SIMPLE\"\n",
    "\n",
    "# exact simulator (state vector)\n",
    "input.quantum_device.type = \"EXACT_SIMULATOR\""
   ]
  },
  {
   "cell_type": "code",
   "execution_count": 6,
   "id": "047bf4dc",
   "metadata": {},
   "outputs": [],
   "source": [
    "properties = input.output_chemical_properties\n",
    "properties.append(qy.output_chemical_property(target=\"band_structure\", algorithm=\"QSE\"))\n",
    "properties.append(qy.output_chemical_property(target=\"band_structure\", algorithm=\"QEOM\"))\n"
   ]
  },
  {
   "cell_type": "code",
   "execution_count": null,
   "id": "3982f40c",
   "metadata": {},
   "outputs": [
    {
     "name": "stderr",
     "output_type": "stream",
     "text": [
      "[Parallel(n_jobs=-1)]: Using backend ThreadingBackend with 44 concurrent workers.\n"
     ]
    }
   ],
   "source": [
    "\n",
    "kx_list = [round(0.05*i,2) for i in range(20)]\n",
    "\n",
    "inputs = []\n",
    "jobs = []\n",
    "outputs = []\n",
    "\n",
    "for kx in kx_list:\n",
    "    temp_input = deepcopy(input)\n",
    "    ps = temp_input.target_periodic_system\n",
    "    ps.scaled_center = [kx, 0., 0.]\n",
    "    inputs.append(temp_input)\n",
    "\n",
    "for input_ in inputs:\n",
    "    jobs.append(client.submit(input_))\n",
    "\n",
    "results = client.wait_and_get_job_results(jobs)\n",
    "outputs = [result.output for result in results]"
   ]
  },
  {
   "cell_type": "code",
   "execution_count": 24,
   "id": "b0229c65",
   "metadata": {},
   "outputs": [],
   "source": [
    "kx_list = []\n",
    "conduction_qse = []\n",
    "conduction_qeom = []\n",
    "conduction_hf = []\n",
    "valence_qse = []\n",
    "valence_qeom = []\n",
    "valence_hf = []\n",
    "\n",
    "for output in outputs:\n",
    "    q_result = output.molecule_result.quantum_device_result\n",
    "    gs_energy = q_result.evaluated_properties[0].energy.values[0].value\n",
    "    band_energies_qse = qy.get_evaluated_properties(q_result, \"band_structure\")[0].values\n",
    "    band_energies_qeom = qy.get_evaluated_properties(q_result, \"band_structure\")[1].values\n",
    "    hf_result = output.molecule_result.hf_result\n",
    "\n",
    "    kx_list.append(band_energies_qse[0].kpt[0])\n",
    "\n",
    "    conduction = []\n",
    "    valence = []\n",
    "    for band_dict in band_energies_qse:\n",
    "        if band_dict.band == \"conduction band\":\n",
    "            conduction.append(band_dict.value)\n",
    "        elif band_dict.band == \"valence band\":\n",
    "            valence.append(band_dict.value)\n",
    "    idx_conduction = np.abs(np.asarray(conduction) - gs_energy).argmin()\n",
    "    idx_valence = np.abs(np.asarray(valence) - gs_energy).argmin()\n",
    "    conduction_qse.append(conduction[idx_conduction])\n",
    "    valence_qse.append(valence[idx_valence])\n",
    "\n",
    "    conduction = []\n",
    "    valence = []\n",
    "    for band_dict in band_energies_qeom:\n",
    "        if band_dict.band == \"conduction band\":\n",
    "            conduction.append(band_dict.value)\n",
    "        elif band_dict.band == \"valence band\":\n",
    "            valence.append(band_dict.value)\n",
    "    idx_conduction = np.abs(np.asarray(conduction) - gs_energy).argmin()\n",
    "    idx_valence = np.abs(np.asarray(valence) - gs_energy).argmin()\n",
    "    conduction_qeom.append(conduction[idx_conduction])\n",
    "    valence_qeom.append(valence[idx_valence])\n",
    "\n",
    "    conduction_hf.append(hf_result.mo_energy[1])\n",
    "    valence_hf.append(hf_result.mo_energy[0])\n",
    "    "
   ]
  },
  {
   "cell_type": "code",
   "execution_count": 25,
   "id": "d08295ed",
   "metadata": {},
   "outputs": [
    {
     "data": {
      "image/png": "[encoded data removed]",
      "text/plain": [
       "<Figure size 576x432 with 1 Axes>"
      ]
     },
     "metadata": {
      "needs_background": "light"
     },
     "output_type": "display_data"
    }
   ],
   "source": [
    "fig = plt.figure(figsize=(8, 6))\n",
    "ax = fig.add_subplot(111)\n",
    "\n",
    "ax.plot(kx_list, conduction_qse, color=\"black\", marker=\"o\", label=\"QSE\")\n",
    "ax.plot(kx_list, conduction_qeom, color=\"red\", marker=\".\", label=\"qEOM\")\n",
    "ax.plot(kx_list, conduction_hf, ls=\"dashed\", marker=\"^\", color=\"green\", label=\"HF\")\n",
    "ax.plot(kx_list, valence_qse, marker=\"o\", color=\"black\")\n",
    "ax.plot(kx_list, valence_qeom, marker=\".\", color=\"red\")\n",
    "ax.plot(kx_list, valence_hf, marker=\"^\", ls=\"dashed\", color=\"green\")\n",
    "\n",
    "ax.grid(True, which='both', axis='both')\n",
    "ax.set_xlabel(\"k\")\n",
    "ax.set_ylabel(\"Energy [Hartree]\")\n",
    "ax.set_title(\"Band structure of hydrogen chain\")\n",
    "ax.legend(fontsize=18)\n",
    "for item in ([ax.title, ax.xaxis.label, ax.yaxis.label] + ax.get_xticklabels() + ax.get_yticklabels()):\n",
    "    item.set_fontsize(16)\n",
    "fig.tight_layout()"
   ]
  },
  {
   "cell_type": "code",
   "execution_count": null,
   "id": "a26b0d9d",
   "metadata": {},
   "outputs": [],
   "source": [
    "input = qy.QamuyChemistryInput()\n",
    "ps = input.target_periodic_system\n",
    "# see also https://sunqm.github.io/pyscf/modules/pbc/gto.html\n",
    "#BOHR = 0.529 # unit: angstrom\n",
    "#unitcell_x = 4. * BOHR\n",
    "#unitcell_yz = 1.\n",
    "atoms = [\"C\",\"C\",\"H\", \"H\"]\n",
    "coords = [[-0.58442 ,  -0.32662 , 0.0 ],[0.58442 ,  0.32662 ,  0.0  ],[ 0.58442  , 1.40362   ,0.0],[ -0.58442   ,-1.40362 , 0.0    \n",
    "]]\n",
    "lattice_vec = [[2.469000000, 0., 0.], [0.,10, 0.], [0., 0., 10]]\n",
    "kpt_grid_shape = [1, 1, 1] # number of k-points in each direction.\n",
    "dimension = 1\n",
    "\n",
    "ps.geometry = qy.periodic_system_geometry(atoms, coords, lattice_vec, kpt_grid_shape)\n",
    "ps.geometry.dimension = dimension\n",
    "ps.basis = \"sto-3g\"\n",
    "ps.num_excited_states = 0\n",
    "ps.multiplicity = 1  # required (from ver. 0.18.1)\n",
    "\n",
    "# CAS\n",
    "ps.cas = qy.cas(2, 2)\n",
    "input.solver.type = \"VQE\"\n",
    "\n",
    "input.ansatz.type = \"UCCD\"\n",
    "input.ansatz.is_state_real = True\n",
    "input.ansatz.reference_state = \"RHF\"\n",
    "input.ansatz.trotter_steps = 4\n",
    "input.ansatz.initial_parameter = [0.0]\n",
    "input.ansatz.init_param_random_seed = 1\n",
    "\n",
    "input.optimizer.type = \"BFGS\"\n",
    "input.optimizer.gtol = 1e-6\n",
    "\n",
    "input.cost_function.type = \"SIMPLE\"\n",
    "\n",
    "# exact simulator (state vector)\n",
    "input.quantum_device.type = \"EXACT_SIMULATOR\"\n",
    "\n",
    "\n",
    "job=client.submit(input)\n",
    "\n",
    "results = client.wait_and_get_job_results([job])\n",
    "print (results[0].output)\n"
   ]
  },
  {
   "cell_type": "code",
   "execution_count": null,
   "id": "fa34f2dd",
   "metadata": {},
   "outputs": [],
   "source": []
  }
 ],
 "metadata": {
  "kernelspec": {
   "display_name": "Python 3 (ipykernel)",
   "language": "python",
   "name": "python3"
  },
  "language_info": {
   "codemirror_mode": {
    "name": "ipython",
    "version": 3
   },
   "file_extension": ".py",
   "mimetype": "text/x-python",
   "name": "python",
   "nbconvert_exporter": "python",
   "pygments_lexer": "ipython3",
   "version": "3.9.5"
  }
 },
 "nbformat": 4,
 "nbformat_minor": 5
}
